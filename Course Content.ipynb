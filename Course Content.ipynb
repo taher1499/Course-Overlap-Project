{
 "cells": [
  {
   "cell_type": "code",
   "execution_count": 2,
   "metadata": {},
   "outputs": [],
   "source": [
    "from bs4 import BeautifulSoup\n",
    "import requests\n",
    "import csv"
   ]
  },
  {
   "cell_type": "markdown",
   "metadata": {},
   "source": [
    "## Princeton"
   ]
  },
  {
   "cell_type": "code",
   "execution_count": 189,
   "metadata": {},
   "outputs": [],
   "source": [
    "DeptPage = requests.get(\"https://www.princeton.edu/academics/areas-of-study\").text"
   ]
  },
  {
   "cell_type": "code",
   "execution_count": 190,
   "metadata": {},
   "outputs": [],
   "source": [
    "DeptPageList = BeautifulSoup(DeptPage,'lxml')"
   ]
  },
  {
   "cell_type": "code",
   "execution_count": 191,
   "metadata": {},
   "outputs": [],
   "source": [
    "test = DeptPageList.find('ul', class_ = 'area-accordion')"
   ]
  },
  {
   "cell_type": "code",
   "execution_count": 192,
   "metadata": {},
   "outputs": [],
   "source": [
    "AllCoursesHeadPhD = test.find_all('li',class_='row small-collapse large-uncollapse accordion-item row ab phd')"
   ]
  },
  {
   "cell_type": "code",
   "execution_count": 193,
   "metadata": {},
   "outputs": [],
   "source": [
    "AllCoursesHeadUndergrad = test.find_all('li',class_='row small-collapse large-uncollapse accordion-item row undergraduate-certificate')"
   ]
  },
  {
   "cell_type": "code",
   "execution_count": 194,
   "metadata": {},
   "outputs": [],
   "source": [
    "AllCoursesHeadUndergradGrad = test.find_all('li',class_=\"row small-collapse large-uncollapse accordion-item row ab undergraduate-certificate graduate-certificate\")"
   ]
  },
  {
   "cell_type": "code",
   "execution_count": 195,
   "metadata": {},
   "outputs": [],
   "source": [
    "JPhD = test.find_all('li', class_='row small-collapse large-uncollapse accordion-item row joint-degree-phd')"
   ]
  },
  {
   "cell_type": "code",
   "execution_count": 196,
   "metadata": {},
   "outputs": [],
   "source": [
    "UGPhD=test.find_all('li',class_='row small-collapse large-uncollapse accordion-item row undergraduate-certificate phd')"
   ]
  },
  {
   "cell_type": "code",
   "execution_count": 197,
   "metadata": {},
   "outputs": [],
   "source": [
    "PhD2=test.find_all('li',class_=\"row small-collapse large-uncollapse accordion-item row phd\")"
   ]
  },
  {
   "cell_type": "code",
   "execution_count": 198,
   "metadata": {},
   "outputs": [],
   "source": [
    "#.find('a',class_='button')['href']"
   ]
  },
  {
   "cell_type": "code",
   "execution_count": 199,
   "metadata": {},
   "outputs": [],
   "source": [
    "prefix = \"https://www.princeton.edu\""
   ]
  },
  {
   "cell_type": "code",
   "execution_count": 200,
   "metadata": {},
   "outputs": [],
   "source": [
    "AllCoursesHead = AllCoursesHeadPhD+AllCoursesHeadUndergrad+AllCoursesHeadUndergradGrad+JPhD+PhD2+UGPhD"
   ]
  },
  {
   "cell_type": "code",
   "execution_count": 180,
   "metadata": {},
   "outputs": [],
   "source": [
    "csv_file = open('Princeton Courses.csv','w')"
   ]
  },
  {
   "cell_type": "code",
   "execution_count": 181,
   "metadata": {},
   "outputs": [],
   "source": [
    "csv_writer = csv.writer(csv_file)"
   ]
  },
  {
   "cell_type": "code",
   "execution_count": 182,
   "metadata": {},
   "outputs": [
    {
     "data": {
      "text/plain": [
       "15"
      ]
     },
     "execution_count": 182,
     "metadata": {},
     "output_type": "execute_result"
    }
   ],
   "source": [
    "csv_writer.writerow(['Title',\"Content\"])"
   ]
  },
  {
   "cell_type": "code",
   "execution_count": 187,
   "metadata": {},
   "outputs": [],
   "source": [
    "for Dept in AllCoursesHead:\n",
    "    try:\n",
    "        DeptCoursesLink = prefix + Dept.find('a',class_='button')['href']\n",
    "        SubjectPage = requests.get(DeptCoursesLink).text\n",
    "        Courses = BeautifulSoup(SubjectPage, 'lxml')\n",
    "        impstuff = Courses.find('div',class_='views-infinite-scroll-content-wrapper clearfix')\n",
    "        for course in impstuff.find_all('div',class_='row views-row'):\n",
    "            title = course.h2.text\n",
    "            body = course.p.text\n",
    "            csv_writer.writerow([title,body])\n",
    "    except Exception as e:\n",
    "        title = Dept\n",
    "        csv_writer.writerow([Dept.a.text,None])"
   ]
  },
  {
   "cell_type": "code",
   "execution_count": 188,
   "metadata": {},
   "outputs": [],
   "source": [
    "csv_file.close()"
   ]
  },
  {
   "cell_type": "markdown",
   "metadata": {},
   "source": [
    "## MIT"
   ]
  },
  {
   "cell_type": "code",
   "execution_count": 218,
   "metadata": {},
   "outputs": [],
   "source": [
    "AllDeptsCode = requests.get('http://catalog.mit.edu/subjects/').text"
   ]
  },
  {
   "cell_type": "code",
   "execution_count": 219,
   "metadata": {},
   "outputs": [],
   "source": [
    "AllDepts = BeautifulSoup(AllDeptsCode,'lxml')"
   ]
  },
  {
   "cell_type": "code",
   "execution_count": 222,
   "metadata": {},
   "outputs": [],
   "source": [
    "ImpStuff = AllDepts.find('div',class_='sitemap')"
   ]
  },
  {
   "cell_type": "code",
   "execution_count": 217,
   "metadata": {},
   "outputs": [],
   "source": [
    "prefix = 'http://catalog.mit.edu'"
   ]
  },
  {
   "cell_type": "code",
   "execution_count": 223,
   "metadata": {},
   "outputs": [],
   "source": [
    "csv_file = open('MIT Courses.csv','w')"
   ]
  },
  {
   "cell_type": "code",
   "execution_count": 224,
   "metadata": {},
   "outputs": [],
   "source": [
    "csv_writer = csv.writer(csv_file)"
   ]
  },
  {
   "cell_type": "code",
   "execution_count": 225,
   "metadata": {},
   "outputs": [
    {
     "data": {
      "text/plain": [
       "15"
      ]
     },
     "execution_count": 225,
     "metadata": {},
     "output_type": "execute_result"
    }
   ],
   "source": [
    "csv_writer.writerow(['Title',\"Content\"])"
   ]
  },
  {
   "cell_type": "code",
   "execution_count": 233,
   "metadata": {},
   "outputs": [],
   "source": [
    "DeptLinks = ImpStuff.find_all('a')"
   ]
  },
  {
   "cell_type": "code",
   "execution_count": 242,
   "metadata": {},
   "outputs": [],
   "source": [
    "for link in DeptLinks:\n",
    "    DeptSiteCode=requests.get(prefix+link['href']).text\n",
    "    DeptSite = BeautifulSoup(DeptSiteCode,'lxml')\n",
    "    for CourseInfo in DeptSite.find_all('div', class_= 'courseblock'):\n",
    "        title = ' '.join(CourseInfo.h4.text.split(' ')[1:])\n",
    "        content = CourseInfo.find('p',class_='courseblockdesc').text\n",
    "        csv_writer.writerow([title,content])"
   ]
  },
  {
   "cell_type": "code",
   "execution_count": 243,
   "metadata": {},
   "outputs": [],
   "source": [
    "csv_file.close()"
   ]
  },
  {
   "cell_type": "markdown",
   "metadata": {},
   "source": [
    "## UC Berkeley"
   ]
  },
  {
   "cell_type": "code",
   "execution_count": 42,
   "metadata": {},
   "outputs": [],
   "source": [
    "AllDeptCode = requests.get('http://guide.berkeley.edu/courses/').text"
   ]
  },
  {
   "cell_type": "code",
   "execution_count": 43,
   "metadata": {},
   "outputs": [],
   "source": [
    "AllDept = BeautifulSoup(AllDeptCode,'lxml')"
   ]
  },
  {
   "cell_type": "code",
   "execution_count": 44,
   "metadata": {},
   "outputs": [],
   "source": [
    "Depts = AllDept.find_all('ul')"
   ]
  },
  {
   "cell_type": "code",
   "execution_count": 45,
   "metadata": {},
   "outputs": [],
   "source": [
    "Depts = Depts[7:]"
   ]
  },
  {
   "cell_type": "code",
   "execution_count": 47,
   "metadata": {},
   "outputs": [],
   "source": [
    "prefix = \"http://guide.berkeley.edu\""
   ]
  },
  {
   "cell_type": "code",
   "execution_count": 56,
   "metadata": {},
   "outputs": [],
   "source": [
    "csv_file = open('UCB Courses.csv','w')"
   ]
  },
  {
   "cell_type": "code",
   "execution_count": 57,
   "metadata": {},
   "outputs": [],
   "source": [
    "csv_writer = csv.writer(csv_file)"
   ]
  },
  {
   "cell_type": "code",
   "execution_count": 58,
   "metadata": {},
   "outputs": [
    {
     "data": {
      "text/plain": [
       "15"
      ]
     },
     "execution_count": 58,
     "metadata": {},
     "output_type": "execute_result"
    }
   ],
   "source": [
    "csv_writer.writerow(['Title',\"Content\"])"
   ]
  },
  {
   "cell_type": "code",
   "execution_count": 59,
   "metadata": {},
   "outputs": [],
   "source": [
    "for letter in Depts:\n",
    "    for School in letter.find_all('a'):\n",
    "        SchoolPageCode = requests.get(prefix+School[\"href\"]).text\n",
    "        SchoolPage = BeautifulSoup(SchoolPageCode,'lxml')\n",
    "        for subject in SchoolPage.find_all('div', class_='courseblock'):\n",
    "            try:\n",
    "                title = subject.find('span',class_='title').text\n",
    "                contentAndTerm = subject.find('span', class_='descshow overflow').text\n",
    "                content = contentAndTerm.split('\\n')[1:][0]\n",
    "                csv_writer.writerow([title,content])\n",
    "            except Exception as e:\n",
    "                None\n",
    "        \n",
    "        "
   ]
  },
  {
   "cell_type": "code",
   "execution_count": 60,
   "metadata": {},
   "outputs": [],
   "source": [
    "csv_file.close()"
   ]
  },
  {
   "cell_type": "code",
   "execution_count": null,
   "metadata": {},
   "outputs": [],
   "source": []
  }
 ],
 "metadata": {
  "kernelspec": {
   "display_name": "Python 3",
   "language": "python",
   "name": "python3"
  },
  "language_info": {
   "codemirror_mode": {
    "name": "ipython",
    "version": 3
   },
   "file_extension": ".py",
   "mimetype": "text/x-python",
   "name": "python",
   "nbconvert_exporter": "python",
   "pygments_lexer": "ipython3",
   "version": "3.8.5"
  }
 },
 "nbformat": 4,
 "nbformat_minor": 4
}
